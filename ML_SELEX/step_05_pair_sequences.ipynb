{
 "cells": [
  {
   "cell_type": "code",
   "execution_count": 6,
   "id": "7c93c571-c040-47d4-8690-e83309b3a9d9",
   "metadata": {},
   "outputs": [],
   "source": [
    "# Inputs:\n",
    "dataset_file = 'dataset.csv'\n",
    "local_kings_file = 'local_kings.csv'\n",
    "\n",
    "# Outputs:\n",
    "paired_dataset_file = 'paired_dataset.csv'\n",
    "\n",
    "# Params:\n",
    "min_delta_c = 20"
   ]
  },
  {
   "cell_type": "code",
   "execution_count": 7,
   "id": "1715b618-b8bc-4189-bc78-d22371523001",
   "metadata": {},
   "outputs": [],
   "source": [
    "import pandas as pd\n",
    "import pickle\n",
    "from multiprocessing import Pool"
   ]
  },
  {
   "cell_type": "code",
   "execution_count": 15,
   "id": "1592d830-e5f0-4ce1-8436-eb99e4c3fc01",
   "metadata": {},
   "outputs": [],
   "source": [
    "def assemble_pairs(k):\n",
    "\n",
    "    # Read the pickle file for a given local king, here under the k variable\n",
    "    filename = 'neighborhood_pairs/single_mutants_' + str(k) + '.pkl'\n",
    "    with open(filename, 'rb') as f:\n",
    "        nbh_pairs = pickle.load(f)\n",
    "\n",
    "    # Assemble the results into a list\n",
    "    part_res = []\n",
    "    for idxs in nbh_pairs:\n",
    "        \n",
    "        i1, i2 = idxs\n",
    "        r1, r2 = df.loc[i1], df.loc[i2]\n",
    "        delta_c = abs(r1['count'] - r2['count'])\n",
    "        \n",
    "        if delta_c > min_delta_c:\n",
    "            if r1['count'] > r2['count']:\n",
    "                part_res.append([i1, i2, r1['seq'], r2['seq'], r1['count'], r2['count'], delta_c, k])\n",
    "            else:\n",
    "                part_res.append([i2, i1, r2['seq'], r1['seq'], r2['count'], r1['count'], delta_c, k])\n",
    "        else:\n",
    "            pass\n",
    "\n",
    "    # Turn into a pandas dataframe and output the result as a csv\n",
    "    out_filename = 'paired_partial_datasets/paired_dataset_lk_' + str(k) + '.csv'\n",
    "    pd.DataFrame(part_res).to_csv(out_filename, header=False, index=False)"
   ]
  },
  {
   "cell_type": "code",
   "execution_count": 9,
   "id": "985c28f4-e754-476a-b718-5f3d8455ef5f",
   "metadata": {},
   "outputs": [],
   "source": [
    "df = pd.read_csv(dataset_file, index_col=0)\n",
    "df_kings = pd.read_csv(local_kings_file, index_col=0)\n",
    "king_indexes = df_kings['lk'].tolist()"
   ]
  },
  {
   "cell_type": "code",
   "execution_count": 16,
   "id": "b5140543-045b-489a-aed1-4cf4436dc0e0",
   "metadata": {},
   "outputs": [],
   "source": [
    "with Pool(5) as p:\n",
    "    p.map(assemble_pairs, king_indexes)"
   ]
  }
 ],
 "metadata": {
  "kernelspec": {
   "display_name": "Python 3 (ipykernel)",
   "language": "python",
   "name": "python3"
  },
  "language_info": {
   "codemirror_mode": {
    "name": "ipython",
    "version": 3
   },
   "file_extension": ".py",
   "mimetype": "text/x-python",
   "name": "python",
   "nbconvert_exporter": "python",
   "pygments_lexer": "ipython3",
   "version": "3.9.12"
  }
 },
 "nbformat": 4,
 "nbformat_minor": 5
}
