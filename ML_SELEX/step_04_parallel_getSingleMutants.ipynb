{
 "cells": [
  {
   "cell_type": "code",
   "execution_count": 1,
   "id": "ee68d9a8",
   "metadata": {},
   "outputs": [],
   "source": [
    "import pandas as pd\n",
    "from polyleven import levenshtein\n",
    "from multiprocessing import Pool\n",
    "from functools import partial\n",
    "import os\n",
    "import pickle\n",
    "import sys"
   ]
  },
  {
   "cell_type": "code",
   "execution_count": 2,
   "id": "a2b86b8a-0e32-48da-b126-d665e668d97a",
   "metadata": {},
   "outputs": [],
   "source": [
    "def compute_sample_distances(i, seqs, dist_function):\n",
    "    results = []\n",
    "    for j in range(i + 1, len(seqs)):\n",
    "        edit_dist = dist_function(seqs[i], seqs[j], 1)\n",
    "        if edit_dist in {1, 2}:\n",
    "            results.append(frozenset([i, j]))\n",
    "    return results\n",
    "            \n",
    "def compute_dists(dist_function):\n",
    "    partial_sample_dists = partial(compute_sample_distances, dist_function=dist_function, seqs=seqs)\n",
    "    with Pool(80) as p:\n",
    "        results_all = p.map(partial_sample_dists, list(range(len(seqs))))\n",
    "    return results_all"
   ]
  },
  {
   "cell_type": "code",
   "execution_count": 3,
   "id": "a551621e-bdf7-4541-8b00-922fdf8b20e6",
   "metadata": {},
   "outputs": [],
   "source": [
    "input_file = 'dataset.csv'\n",
    "output_file = 'single_and_double_mutants.pkl'\n",
    "lk_index = 0"
   ]
  },
  {
   "cell_type": "code",
   "execution_count": 4,
   "id": "c0734d70-c006-4871-871d-e38c009b90f0",
   "metadata": {},
   "outputs": [],
   "source": [
    "df = pd.read_csv(input_file, index_col=0)"
   ]
  },
  {
   "cell_type": "code",
   "execution_count": 5,
   "id": "767a8b5f-35d2-43e8-8e1f-115230511cc7",
   "metadata": {},
   "outputs": [
    {
     "data": {
      "text/html": [
       "<div>\n",
       "<style scoped>\n",
       "    .dataframe tbody tr th:only-of-type {\n",
       "        vertical-align: middle;\n",
       "    }\n",
       "\n",
       "    .dataframe tbody tr th {\n",
       "        vertical-align: top;\n",
       "    }\n",
       "\n",
       "    .dataframe thead th {\n",
       "        text-align: right;\n",
       "    }\n",
       "</style>\n",
       "<table border=\"1\" class=\"dataframe\">\n",
       "  <thead>\n",
       "    <tr style=\"text-align: right;\">\n",
       "      <th></th>\n",
       "      <th>count</th>\n",
       "      <th>seq</th>\n",
       "      <th>lk</th>\n",
       "    </tr>\n",
       "  </thead>\n",
       "  <tbody>\n",
       "    <tr>\n",
       "      <th>0</th>\n",
       "      <td>17596</td>\n",
       "      <td>AGACATGTTTTTTTAGTATGTTGT</td>\n",
       "      <td>0</td>\n",
       "    </tr>\n",
       "    <tr>\n",
       "      <th>1</th>\n",
       "      <td>16261</td>\n",
       "      <td>AAACATGTTTTTTTAGTATGTTGT</td>\n",
       "      <td>0</td>\n",
       "    </tr>\n",
       "    <tr>\n",
       "      <th>2</th>\n",
       "      <td>11069</td>\n",
       "      <td>AAACATGTTTTTTAAGTATGTTGT</td>\n",
       "      <td>5</td>\n",
       "    </tr>\n",
       "    <tr>\n",
       "      <th>3</th>\n",
       "      <td>10477</td>\n",
       "      <td>AGACATGTTATTTTAGTATGTTGT</td>\n",
       "      <td>0</td>\n",
       "    </tr>\n",
       "    <tr>\n",
       "      <th>4</th>\n",
       "      <td>10192</td>\n",
       "      <td>AAACATGTTTTTATAGTATGTTGT</td>\n",
       "      <td>0</td>\n",
       "    </tr>\n",
       "    <tr>\n",
       "      <th>...</th>\n",
       "      <td>...</td>\n",
       "      <td>...</td>\n",
       "      <td>...</td>\n",
       "    </tr>\n",
       "    <tr>\n",
       "      <th>7503788</th>\n",
       "      <td>1</td>\n",
       "      <td>AAAAACACGAAGAACAAGTACTTT</td>\n",
       "      <td>2630</td>\n",
       "    </tr>\n",
       "    <tr>\n",
       "      <th>7503789</th>\n",
       "      <td>1</td>\n",
       "      <td>AAAAACACGAAGAACAAGCATTTC</td>\n",
       "      <td>3009</td>\n",
       "    </tr>\n",
       "    <tr>\n",
       "      <th>7503790</th>\n",
       "      <td>1</td>\n",
       "      <td>AAAAACACGAAGAACAAATGTTTC</td>\n",
       "      <td>7354</td>\n",
       "    </tr>\n",
       "    <tr>\n",
       "      <th>7503791</th>\n",
       "      <td>1</td>\n",
       "      <td>AAAAACACGAAGAACAAACGTTTT</td>\n",
       "      <td>2630</td>\n",
       "    </tr>\n",
       "    <tr>\n",
       "      <th>7503792</th>\n",
       "      <td>1</td>\n",
       "      <td>AAAAACACGAAGAACAAACATTTT</td>\n",
       "      <td>169</td>\n",
       "    </tr>\n",
       "  </tbody>\n",
       "</table>\n",
       "<p>7503793 rows × 3 columns</p>\n",
       "</div>"
      ],
      "text/plain": [
       "         count                       seq    lk\n",
       "0        17596  AGACATGTTTTTTTAGTATGTTGT     0\n",
       "1        16261  AAACATGTTTTTTTAGTATGTTGT     0\n",
       "2        11069  AAACATGTTTTTTAAGTATGTTGT     5\n",
       "3        10477  AGACATGTTATTTTAGTATGTTGT     0\n",
       "4        10192  AAACATGTTTTTATAGTATGTTGT     0\n",
       "...        ...                       ...   ...\n",
       "7503788      1  AAAAACACGAAGAACAAGTACTTT  2630\n",
       "7503789      1  AAAAACACGAAGAACAAGCATTTC  3009\n",
       "7503790      1  AAAAACACGAAGAACAAATGTTTC  7354\n",
       "7503791      1  AAAAACACGAAGAACAAACGTTTT  2630\n",
       "7503792      1  AAAAACACGAAGAACAAACATTTT   169\n",
       "\n",
       "[7503793 rows x 3 columns]"
      ]
     },
     "execution_count": 5,
     "metadata": {},
     "output_type": "execute_result"
    }
   ],
   "source": [
    "df"
   ]
  },
  {
   "cell_type": "code",
   "execution_count": 6,
   "id": "1806e2e9-45a6-43ae-9395-24f15f6d304a",
   "metadata": {},
   "outputs": [],
   "source": [
    "local_king_indexes = sorted(df['lk'].unique().tolist())\n",
    "lk = local_king_indexes[lk_index]"
   ]
  },
  {
   "cell_type": "code",
   "execution_count": 7,
   "id": "4d365f81-b11a-4a4d-a16b-cc17b12a5645",
   "metadata": {},
   "outputs": [],
   "source": [
    "df_lk = df[df['lk'] == lk]#.head(5000) # !! This .head(5000) needs to be deleted in the real run\n",
    "seqs = df_lk['seq'].values\n",
    "ids = df_lk.index"
   ]
  },
  {
   "cell_type": "code",
   "execution_count": null,
   "id": "499b6a02-0007-47a9-9867-b68e50794a46",
   "metadata": {},
   "outputs": [],
   "source": [
    "single_double_mutants = compute_dists(levenshtein)"
   ]
  },
  {
   "cell_type": "code",
   "execution_count": null,
   "id": "2fe1714a-e72b-40ff-8c54-05e387eb07a0",
   "metadata": {},
   "outputs": [],
   "source": [
    "with open(output_file, 'wb') as f:\n",
    "    pickle.dump(single_double_mutants, f)"
   ]
  },
  {
   "cell_type": "code",
   "execution_count": null,
   "id": "6e758a41",
   "metadata": {},
   "outputs": [],
   "source": []
  }
 ],
 "metadata": {
  "kernelspec": {
   "display_name": "Python 3 (ipykernel)",
   "language": "python",
   "name": "python3"
  },
  "language_info": {
   "codemirror_mode": {
    "name": "ipython",
    "version": 3
   },
   "file_extension": ".py",
   "mimetype": "text/x-python",
   "name": "python",
   "nbconvert_exporter": "python",
   "pygments_lexer": "ipython3",
   "version": "3.10.4"
  }
 },
 "nbformat": 4,
 "nbformat_minor": 5
}
