{
 "cells": [
  {
   "cell_type": "code",
   "execution_count": 1,
   "id": "1e443b73-1247-483d-bfd6-55a8b1bc3f8d",
   "metadata": {},
   "outputs": [],
   "source": [
    "import pandas as pd\n",
    "import numpy as np\n",
    "from sklearn.neural_network import MLPRegressor"
   ]
  },
  {
   "cell_type": "code",
   "execution_count": 2,
   "id": "d40a8209-24c4-4356-8793-ce94c52837fd",
   "metadata": {},
   "outputs": [],
   "source": [
    "def encodePair(s_parent, s_mutant):\n",
    "    '''\n",
    "    Encodes the a single pair of sequences into a numpy array\n",
    "    '''\n",
    "    \n",
    "    pair_encoded = []\n",
    "    blocks = {'A' : np.array([1, 0, 0, 0]), 'T' : np.array([0, 1, 0, 0]), 'G' : np.array([0, 0, 1, 0]), 'C' : np.array([0, 0, 0, 1])}\n",
    "    for b_parent, b_mutant in zip(s_parent, s_mutant):\n",
    "        pair_encoded.append(blocks[b_parent])\n",
    "        if b_mutant == b_parent:\n",
    "            pair_encoded.append(np.array([0, 0, 0, 0]))\n",
    "        else:\n",
    "            pair_encoded.append(blocks[b_mutant])\n",
    "    return np.concatenate(pair_encoded)"
   ]
  },
  {
   "cell_type": "code",
   "execution_count": 3,
   "id": "5460c53f-d4f8-4b63-ab35-70bab97ae11b",
   "metadata": {},
   "outputs": [],
   "source": [
    "# Make a grid of MLP parameters\n",
    "\n",
    "fractions = [0.5, 0.33, 0.1, 0.01]\n",
    "architectures = [(100), (100, 100), (100, 100, 100), (50), (50, 50), (50, 50, 50)]\n",
    "activations = ['relu','logistic']\n",
    "\n",
    "grid = []\n",
    "for arch in architectures:\n",
    "    for act in activations:\n",
    "        grid.append([arch, act])\n",
    "\n",
    "df_grid = pd.DataFrame(grid, columns=['arch', 'act'])\n",
    "df_grid.to_csv('hyperparams_grid.csv')"
   ]
  },
  {
   "cell_type": "code",
   "execution_count": 10,
   "id": "9626a342-1464-4869-8698-9f8051b433e0",
   "metadata": {},
   "outputs": [],
   "source": [
    "# Train and predict for each of the fractions and parameter combinations\n",
    "\n",
    "for f in fractions:\n",
    "    \n",
    "    train_data_file = 'splits/local_train_' + str(f).replace('.', '_') + '.csv'\n",
    "    val_data_file = 'splits/local_val_' + str(f).replace('.', '_') + '.csv'\n",
    "    test_data_file = 'splits/local_test_' + str(f).replace('.', '_') + '.csv'\n",
    "\n",
    "    df_train = pd.read_csv(train_data_file, index_col=0)\n",
    "    df_val = pd.read_csv(val_data_file, index_col=0)\n",
    "    df_test = pd.read_csv(test_data_file, index_col=0)\n",
    "\n",
    "    train_features = [encodePair(sb, sw) for sb, sw in zip(df_train['seq_b'], df_train['seq_w'])]\n",
    "    train_labels = [dC for dC in df_train['deltaC']]\n",
    "    val_features = [encodePair(sb, sw) for sb, sw in zip(df_val['seq_b'], df_val['seq_w'])]\n",
    "    val_labels = [dC for dC in df_val['deltaC']]\n",
    "    \n",
    "    for index, row in df_grid.iterrows():\n",
    "        \n",
    "        results_file = 'results/local_split_' + str(f).replace('.', '') + '_' + str(index) + '.csv'\n",
    "\n",
    "        model = MLPRegressor(random_state=1, max_iter=500, hidden_layer_sizes=row['arch'], activation=row['act']).fit(train_features, train_labels)\n",
    "        pred = model.predict(val_features)\n",
    "\n",
    "        df_res = pd.DataFrame({'obs':val_labels, 'pred':pred})\n",
    "        df_res.index = df_val.index\n",
    "        df_res.to_csv(results_file)"
   ]
  },
  {
   "cell_type": "code",
   "execution_count": null,
   "id": "fb41be5a-0bb2-4236-8431-639faf9bec95",
   "metadata": {},
   "outputs": [],
   "source": []
  }
 ],
 "metadata": {
  "kernelspec": {
   "display_name": "Python 3 (ipykernel)",
   "language": "python",
   "name": "python3"
  },
  "language_info": {
   "codemirror_mode": {
    "name": "ipython",
    "version": 3
   },
   "file_extension": ".py",
   "mimetype": "text/x-python",
   "name": "python",
   "nbconvert_exporter": "python",
   "pygments_lexer": "ipython3",
   "version": "3.9.12"
  }
 },
 "nbformat": 4,
 "nbformat_minor": 5
}
