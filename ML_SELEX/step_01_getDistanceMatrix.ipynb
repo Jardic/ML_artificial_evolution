{
 "cells": [
  {
   "cell_type": "code",
   "execution_count": 9,
   "id": "3827ec48-1359-43b3-82cc-faf27cf56021",
   "metadata": {},
   "outputs": [],
   "source": [
    "# Inputs:\n",
    "dataset_file = 'dataset.csv'\n",
    "\n",
    "# Outputs:\n",
    "distance_matrix_file = 'distance_matrix.csv'\n",
    "\n",
    "# Params:\n",
    "nrows = 10000"
   ]
  },
  {
   "cell_type": "code",
   "execution_count": 10,
   "id": "ee68d9a8",
   "metadata": {},
   "outputs": [],
   "source": [
    "import pandas as pd\n",
    "import numpy as np\n",
    "from polyleven import levenshtein\n",
    "from multiprocessing import Pool\n",
    "from functools import partial"
   ]
  },
  {
   "cell_type": "code",
   "execution_count": 11,
   "id": "a2b86b8a-0e32-48da-b126-d665e668d97a",
   "metadata": {},
   "outputs": [],
   "source": [
    "def compute_sample_distances(i, seqs, dist_function):\n",
    "    results = []\n",
    "    for j in range(i + 1, len(seqs)):\n",
    "        edit_dist = dist_function(seqs[i], seqs[j], 1)\n",
    "        results.append((i, j, edit_dist))\n",
    "    return results\n",
    "            \n",
    "def compute_dists(dist_function):\n",
    "    partial_sample_dists = partial(compute_sample_distances,\n",
    "                                   dist_function=dist_function,\n",
    "                                   seqs=seqs)\n",
    "    with Pool(2) as p:\n",
    "        results_all = p.map(partial_sample_dists, list(range(len(seqs))))\n",
    "        \n",
    "    dist_mat = np.zeros((len(seqs), len(seqs)))\n",
    "    for row_result in results_all:\n",
    "        for i, j, dist in row_result:\n",
    "            dist_mat[i, j] = dist\n",
    "            dist_mat[j, i] = dist\n",
    "    return dist_mat"
   ]
  },
  {
   "cell_type": "code",
   "execution_count": 13,
   "id": "494fd290-dde0-43e0-8ea4-9fb6adf025c3",
   "metadata": {},
   "outputs": [],
   "source": [
    "df = pd.read_csv(dataset_file, index_col=0, nrows=nrows)\n",
    "seqs = df['seq'].values\n",
    "ids = df.index"
   ]
  },
  {
   "cell_type": "code",
   "execution_count": 16,
   "id": "41914591-27da-44dd-9157-b55fd9f45128",
   "metadata": {},
   "outputs": [],
   "source": [
    "dist_mat = compute_dists(levenshtein)\n",
    "df_dist_mat = pd.DataFrame(dist_mat, index=ids, columns=ids)"
   ]
  },
  {
   "cell_type": "code",
   "execution_count": 18,
   "id": "8a9738a0-d1f2-4fb5-9901-6b15e63b5fad",
   "metadata": {},
   "outputs": [],
   "source": [
    "df_dist_mat.to_csv(distance_matrix_file)"
   ]
  }
 ],
 "metadata": {
  "kernelspec": {
   "display_name": "Python 3 (ipykernel)",
   "language": "python",
   "name": "python3"
  },
  "language_info": {
   "codemirror_mode": {
    "name": "ipython",
    "version": 3
   },
   "file_extension": ".py",
   "mimetype": "text/x-python",
   "name": "python",
   "nbconvert_exporter": "python",
   "pygments_lexer": "ipython3",
   "version": "3.9.12"
  }
 },
 "nbformat": 4,
 "nbformat_minor": 5
}
