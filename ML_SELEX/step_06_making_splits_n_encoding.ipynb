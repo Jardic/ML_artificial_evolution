{
 "cells": [
  {
   "cell_type": "code",
   "execution_count": 1,
   "id": "1216c0ef-64b8-4740-8969-d2535f7630ac",
   "metadata": {},
   "outputs": [],
   "source": [
    "import pandas as pd\n",
    "import random"
   ]
  },
  {
   "cell_type": "code",
   "execution_count": 2,
   "id": "43d38a33-41ea-4b7b-bf71-9aa2a0920fb6",
   "metadata": {},
   "outputs": [],
   "source": [
    "df = pd.read_csv('paired_dataset_complete.csv', names=['i_b', 'i_w', 'seq_b', 'seq_w', 'count_b', 'count_w', 'deltaC', 'n'])"
   ]
  },
  {
   "cell_type": "code",
   "execution_count": 3,
   "id": "bd432f25-ac7e-4459-8dbf-df6cad02222a",
   "metadata": {},
   "outputs": [],
   "source": [
    "def makeLocalSplits(df, f):\n",
    "    '''\n",
    "    Here the input dataframe is subset based on neighborhood. Random sample (fraction f of the neighborhood size) is used for training\n",
    "    and the rest is split equally into test and val\n",
    "    '''\n",
    "    \n",
    "    split = {'train':[], 'val':[], 'test':[]}\n",
    "    \n",
    "    for lk in df['n'].unique():\n",
    "        \n",
    "        neighborhood_indexes = set(df[df['n'] == lk].index)\n",
    "        \n",
    "        train = set([random.choice(tuple(neighborhood_indexes)) for x in range(int(len(neighborhood_indexes)*f))])\n",
    "        valtest = neighborhood_indexes - train\n",
    "        val = set([random.choice(tuple(valtest)) for x in range(int(len(valtest)/2))])\n",
    "        test = valtest - val\n",
    "                  \n",
    "        split['train'].extend(list(train))\n",
    "        split['val'].extend(list(val))\n",
    "        split['test'].extend(list(test))\n",
    "                  \n",
    "    return split"
   ]
  },
  {
   "cell_type": "code",
   "execution_count": 4,
   "id": "28751a9a-36b7-4f80-aa52-863ffed31d1b",
   "metadata": {},
   "outputs": [],
   "source": [
    "def makeGlobalSplits(df, f):\n",
    "    '''\n",
    "    TODO\n",
    "    '''\n",
    "    pass"
   ]
  },
  {
   "cell_type": "code",
   "execution_count": 5,
   "id": "5445dcde-04d6-4a8e-b9c7-e00134d26023",
   "metadata": {},
   "outputs": [],
   "source": [
    "fractions = [0.5, 0.33, 0.1, 0.01]"
   ]
  },
  {
   "cell_type": "code",
   "execution_count": 7,
   "id": "71eb151e-69ca-45d2-9cff-020ae481979e",
   "metadata": {},
   "outputs": [],
   "source": [
    "for f in fractions:\n",
    "    \n",
    "    local_splits = makeLocalSplits(df, f)\n",
    "    \n",
    "    df.loc[local_splits['train']].to_csv('splits/local_train_' + str(f).replace('.', '_') + '.csv')\n",
    "    df.loc[local_splits['val']].to_csv('splits/local_val_' + str(f).replace('.', '_') + '.csv')\n",
    "    df.loc[local_splits['test']].to_csv('splits/local_test_' + str(f).replace('.', '_') + '.csv')"
   ]
  }
 ],
 "metadata": {
  "kernelspec": {
   "display_name": "Python 3 (ipykernel)",
   "language": "python",
   "name": "python3"
  },
  "language_info": {
   "codemirror_mode": {
    "name": "ipython",
    "version": 3
   },
   "file_extension": ".py",
   "mimetype": "text/x-python",
   "name": "python",
   "nbconvert_exporter": "python",
   "pygments_lexer": "ipython3",
   "version": "3.9.12"
  }
 },
 "nbformat": 4,
 "nbformat_minor": 5
}
